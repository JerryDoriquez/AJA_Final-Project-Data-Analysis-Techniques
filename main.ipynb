{
 "cells": [
  {
   "cell_type": "markdown",
   "metadata": {},
   "source": [
    "1."
   ]
  },
  {
   "cell_type": "code",
   "execution_count": 18,
   "metadata": {},
   "outputs": [],
   "source": [
    "import streamlit as st\n",
    "import pandas as pd\n",
    "import numpy as np\n",
    "import seaborn as sns\n",
    "import matplotlib.pyplot as plt\n",
    "from sklearn.cluster import KMeans\n",
    "from sklearn.linear_model import LogisticRegression\n",
    "from sklearn.model_selection import train_test_split\n",
    "from sklearn.preprocessing import StandardScaler\n",
    "from sklearn.metrics import classification_report\n"
   ]
  },
  {
   "cell_type": "markdown",
   "metadata": {},
   "source": [
    "2."
   ]
  },
  {
   "cell_type": "code",
   "execution_count": 19,
   "metadata": {},
   "outputs": [
    {
     "name": "stderr",
     "output_type": "stream",
     "text": [
      "2024-12-09 10:37:04.803 No runtime found, using MemoryCacheStorageManager\n"
     ]
    }
   ],
   "source": [
    "\n",
    "@st.cache_data\n",
    "def load_data():\n",
    "    \n",
    "    url = \"https://raw.githubusercontent.com/JerryDoriquez/AJA_Final-Project-Data-Analysis-Techniques/refs/heads/main/titanic_dataset.csv\"  \n",
    "    data = pd.read_csv(url)\n",
    "    return data\n",
    "\n",
    "\n",
    "data = load_data()\n",
    "st.title(\"Titanic Dataset Analysis\")\n",
    "st.subheader(\"Overview of the Dataset\")\n",
    "st.write(data.head())"
   ]
  },
  {
   "cell_type": "code",
   "execution_count": 20,
   "metadata": {},
   "outputs": [
    {
     "data": {
      "text/plain": [
       "DeltaGenerator()"
      ]
     },
     "execution_count": 20,
     "metadata": {},
     "output_type": "execute_result"
    }
   ],
   "source": [
    "st.subheader(\"Data Exploration\")\n",
    "st.write(\"### Basic Statistics\")\n",
    "st.write(data.describe())\n",
    "\n",
    "st.write(\"### Missing Values\")\n",
    "missing_values = data.isnull().sum()\n",
    "st.write(missing_values)\n",
    "\n",
    "# Visualization: Heatmap of missing values\n",
    "st.write(\"### Heatmap of Missing Values\")\n",
    "fig, ax = plt.subplots(figsize=(10, 6))\n",
    "sns.heatmap(data.isnull(), cbar=False, cmap='viridis')\n",
    "st.pyplot(fig)\n"
   ]
  },
  {
   "cell_type": "markdown",
   "metadata": {},
   "source": [
    "3."
   ]
  },
  {
   "cell_type": "code",
   "execution_count": 21,
   "metadata": {},
   "outputs": [
    {
     "data": {
      "text/plain": [
       "DeltaGenerator()"
      ]
     },
     "execution_count": 21,
     "metadata": {},
     "output_type": "execute_result"
    }
   ],
   "source": [
    "st.subheader(\"Data Exploration\")\n",
    "st.write(\"### Basic Statistics\")\n",
    "st.write(data.describe())\n",
    "\n",
    "st.write(\"### Missing Values\")\n",
    "missing_values = data.isnull().sum()\n",
    "st.write(missing_values)\n",
    "\n",
    "# Visualization: Heatmap of missing values\n",
    "st.write(\"### Heatmap of Missing Values\")\n",
    "fig, ax = plt.subplots(figsize=(10, 6))\n",
    "sns.heatmap(data.isnull(), cbar=False, cmap='viridis')\n",
    "st.pyplot(fig)\n"
   ]
  },
  {
   "cell_type": "markdown",
   "metadata": {},
   "source": [
    "4."
   ]
  },
  {
   "cell_type": "code",
   "execution_count": null,
   "metadata": {},
   "outputs": [
    {
     "name": "stderr",
     "output_type": "stream",
     "text": [
      "C:\\Users\\Jerry\\AppData\\Local\\Temp\\ipykernel_7404\\2108211890.py:4: FutureWarning: A value is trying to be set on a copy of a DataFrame or Series through chained assignment using an inplace method.\n",
      "The behavior will change in pandas 3.0. This inplace method will never work because the intermediate object on which we are setting values always behaves as a copy.\n",
      "\n",
      "For example, when doing 'df[col].method(value, inplace=True)', try using 'df.method({col: value}, inplace=True)' or df[col] = df[col].method(value) instead, to perform the operation inplace on the original object.\n",
      "\n",
      "\n",
      "  data['Age'].fillna(data['Age'].median(), inplace=True)\n"
     ]
    }
   ],
   "source": [
    "st.subheader(\"Data Preparation\")\n",
    "\n",
    "# Fill missing age values with the median\n",
    "data['Age'].fillna(data['Age'].median(), inplace=True)\n",
    "\n",
    "# Drop rows with missing Embarked values\n",
    "data.dropna(subset=['Embarked'], inplace=True)\n",
    "\n",
    "# Encode categorical variables\n",
    "data['Sex'] = data['Sex'].map({'male': 0, 'female': 1})\n",
    "data['Embarked'] = data['Embarked'].map({'C': 0, 'Q': 1, 'S': 2})\n",
    "\n",
    "# Selected features for analysis\n",
    "features = ['Pclass', 'Age', 'Fare', 'Sex']\n",
    "X = data[features]  \n",
    "st.write(\"### Prepared Data\")\n",
    "st.write(X.head())\n"
   ]
  },
  {
   "cell_type": "markdown",
   "metadata": {},
   "source": [
    "5"
   ]
  },
  {
   "cell_type": "code",
   "execution_count": 23,
   "metadata": {},
   "outputs": [
    {
     "data": {
      "text/plain": [
       "DeltaGenerator()"
      ]
     },
     "execution_count": 23,
     "metadata": {},
     "output_type": "execute_result"
    }
   ],
   "source": [
    "st.subheader(\"K-means Clustering\")\n",
    "\n",
    "# Standardize features\n",
    "scaler = StandardScaler()\n",
    "X_scaled = scaler.fit_transform(X)\n",
    "\n",
    "# Apply K-means clustering\n",
    "kmeans = KMeans(n_clusters=3, random_state=42)\n",
    "data['Cluster'] = kmeans.fit_predict(X_scaled)\n",
    "\n",
    "# Visualization: Scatter plot of clusters\n",
    "st.write(\"### Cluster Visualization\")\n",
    "fig, ax = plt.subplots(figsize=(10, 6))\n",
    "sns.scatterplot(x=data['Age'], y=data['Fare'], hue=data['Cluster'], palette='viridis')\n",
    "plt.title(\"Clusters Based on Age and Fare\")\n",
    "st.pyplot(fig)\n"
   ]
  },
  {
   "cell_type": "markdown",
   "metadata": {},
   "source": [
    "6"
   ]
  },
  {
   "cell_type": "code",
   "execution_count": 24,
   "metadata": {},
   "outputs": [
    {
     "data": {
      "text/plain": [
       "DeltaGenerator()"
      ]
     },
     "execution_count": 24,
     "metadata": {},
     "output_type": "execute_result"
    }
   ],
   "source": [
    "st.subheader(\"Linear Regression\")\n",
    "\n",
    "# Prepare data for regression\n",
    "y = data['Survived']\n",
    "X_train, X_test, y_train, y_test = train_test_split(X, y, test_size=0.2, random_state=42)\n",
    "\n",
    "# Train logistic regression model\n",
    "model = LogisticRegression()\n",
    "model.fit(X_train, y_train)\n",
    "\n",
    "# Model accuracy\n",
    "accuracy = model.score(X_test, y_test)\n",
    "st.write(f\"### Model Accuracy: {accuracy:.2f}\")\n",
    "\n",
    "# Predictions and classification report\n",
    "y_pred = model.predict(X_test)\n",
    "report = classification_report(y_test, y_pred, output_dict=True)\n",
    "\n",
    "# Display classification report\n",
    "st.write(\"### Classification Report\")\n",
    "st.write(pd.DataFrame(report).transpose())\n",
    "\n",
    "# Visualization: Feature importance\n",
    "coefficients = pd.DataFrame({'Feature': features, 'Coefficient': model.coef_[0]})\n",
    "fig, ax = plt.subplots(figsize=(10, 6))\n",
    "sns.barplot(x='Coefficient', y='Feature', data=coefficients, orient='h')\n",
    "plt.title(\"Feature Importance\")\n",
    "st.pyplot(fig)\n"
   ]
  },
  {
   "cell_type": "markdown",
   "metadata": {},
   "source": [
    "7"
   ]
  },
  {
   "cell_type": "code",
   "execution_count": 25,
   "metadata": {},
   "outputs": [
    {
     "data": {
      "text/plain": [
       "DeltaGenerator()"
      ]
     },
     "execution_count": 25,
     "metadata": {},
     "output_type": "execute_result"
    }
   ],
   "source": [
    "st.subheader(\"Interactive Visualization\")\n",
    "\n",
    "# Age filter\n",
    "min_age, max_age = st.slider(\"Select Age Range\", int(data['Age'].min()), int(data['Age'].max()), (20, 50))\n",
    "filtered_data = data[(data['Age'] >= min_age) & (data['Age'] <= max_age)]\n",
    "\n",
    "# Visualization: Filtered data\n",
    "st.write(f\"### Passengers Aged Between {min_age} and {max_age}\")\n",
    "st.write(filtered_data[['Age', 'Fare', 'Pclass', 'Survived']].head())\n",
    "\n",
    "# Scatter plot for filtered data\n",
    "fig, ax = plt.subplots(figsize=(10, 6))\n",
    "sns.scatterplot(x=filtered_data['Age'], y=filtered_data['Fare'], hue=filtered_data['Survived'], palette='coolwarm')\n",
    "plt.title(f\"Passengers Aged Between {min_age} and {max_age}\")\n",
    "st.pyplot(fig)\n"
   ]
  },
  {
   "cell_type": "markdown",
   "metadata": {},
   "source": [
    "8"
   ]
  },
  {
   "cell_type": "code",
   "execution_count": 26,
   "metadata": {},
   "outputs": [],
   "source": [
    "st.subheader(\"Conclusions and Recommendations\")\n",
    "st.write(\"\"\"\n",
    "- **Cluster Insights**: Passengers were grouped into clusters based on age, fare, and class. The analysis showed clear groupings based on socio-economic status.\n",
    "- **Survival Factors**: Logistic regression revealed that women and passengers in higher classes had significantly better chances of survival.\n",
    "- **Actionable Insights**:\n",
    "  - Future evacuation protocols could prioritize high-risk groups such as older passengers and those in lower classes.\n",
    "  - Highlight the importance of socio-economic disparities in survival rates.\n",
    "\"\"\")\n"
   ]
  }
 ],
 "metadata": {
  "kernelspec": {
   "display_name": "Python 3",
   "language": "python",
   "name": "python3"
  },
  "language_info": {
   "codemirror_mode": {
    "name": "ipython",
    "version": 3
   },
   "file_extension": ".py",
   "mimetype": "text/x-python",
   "name": "python",
   "nbconvert_exporter": "python",
   "pygments_lexer": "ipython3",
   "version": "3.11.5"
  }
 },
 "nbformat": 4,
 "nbformat_minor": 2
}
